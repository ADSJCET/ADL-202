{
 "cells": [
  {
   "cell_type": "code",
   "execution_count": 10,
   "id": "bdfc1f5b",
   "metadata": {},
   "outputs": [
    {
     "name": "stdout",
     "output_type": "stream",
     "text": [
      "T Statistic value:  -2.020799500150909\n",
      "P-Value:  0.046028526548752335 \n",
      "\n",
      "We reject Null Hypothesis\n"
     ]
    }
   ],
   "source": [
    "from numpy.random import seed\n",
    "from numpy.random import randn\n",
    "from numpy.random import normal\n",
    "from scipy.stats import ttest_ind as t_test\n",
    "\n",
    "seed(1)\n",
    "sample1 = normal(30, 16, 50)\n",
    "sample2 = normal(33, 18, 50)\n",
    "\n",
    "t_stat, p_value = t_test(sample1, sample2)\n",
    "\n",
    "print(\"T Statistic value: \", t_stat)  \n",
    "print(\"P-Value: \", p_value, '\\n')\n",
    "\n",
    "if p_value < 0.05:\n",
    "    print(\"We reject Null Hypothesis\")\n",
    "else:\n",
    "    print(\"We fail to reject Null Hypothesis\")"
   ]
  },
  {
   "cell_type": "code",
   "execution_count": 26,
   "id": "9276c177",
   "metadata": {},
   "outputs": [
    {
     "name": "stdout",
     "output_type": "stream",
     "text": [
      "Home Mortgage    0.529467\n",
      "Own Home         0.235266\n",
      "Rent             0.235266\n",
      "Name: Stratify, dtype: float64\n"
     ]
    }
   ],
   "source": [
    "import pandas as pd\n",
    "import numpy as np\n",
    "\n",
    "df = pd.read_csv(\"train.csv\")\n",
    "\n",
    "df = df[df['Home Ownership'].isin(['Home Mortgage', 'Own Home', 'Rent'])]\n",
    "\n",
    "df['Stratify'] = df['Home Ownership']\n",
    "\n",
    "stratify_values = ['Home Mortgage', 'Own Home', 'Rent']\n",
    "stratify_proportions = [0.45, 0.20, 0.20, 0.15]\n",
    "\n",
    "df_stratified = pd.DataFrame(columns=df.columns)\n",
    "\n",
    "for value, proportion in zip(stratify_values, stratify_proportions):\n",
    "    filtered_data = df[df['Stratify'] == value]\n",
    "    sample_len = int(len(df) * proportion)\n",
    "    sampled_data = filtered_data.sample(replace=True, n=sample_len, random_state=42)\n",
    "    df_stratified = pd.concat([df_stratified, sampled_data])\n",
    "\n",
    "# Print the proportions of stratified categories in the final DataFrame\n",
    "stratify_proportions = (df_stratified['Stratify'].value_counts() / len(df_stratified)).sort_values(ascending=False)\n",
    "print(stratify_proportions)\n"
   ]
  },
  {
   "cell_type": "code",
   "execution_count": null,
   "id": "afa834e8",
   "metadata": {},
   "outputs": [],
   "source": []
  }
 ],
 "metadata": {
  "kernelspec": {
   "display_name": "Python 3 (ipykernel)",
   "language": "python",
   "name": "python3"
  },
  "language_info": {
   "codemirror_mode": {
    "name": "ipython",
    "version": 3
   },
   "file_extension": ".py",
   "mimetype": "text/x-python",
   "name": "python",
   "nbconvert_exporter": "python",
   "pygments_lexer": "ipython3",
   "version": "3.9.12"
  }
 },
 "nbformat": 4,
 "nbformat_minor": 5
}
