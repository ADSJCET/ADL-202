{
 "cells": [
  {
   "cell_type": "code",
   "execution_count": 10,
   "id": "878690fe",
   "metadata": {},
   "outputs": [
    {
     "name": "stdout",
     "output_type": "stream",
     "text": [
      "T Statistic value:  -2.020799500150909\n",
      "P-Value:  0.046028526548752335 \n",
      "\n",
      "We reject Null Hypothesis\n"
     ]
    }
   ],
   "source": [
    "from numpy.random import seed\n",
    "from numpy.random import randn\n",
    "from numpy.random import normal\n",
    "from scipy.stats import ttest_ind as t_test\n",
    "\n",
    "seed(1)\n",
    "sample1 = normal(30, 16, 50)\n",
    "sample2 = normal(33, 18, 50)\n",
    "\n",
    "t_stat, p_value = t_test(sample1, sample2)\n",
    "\n",
    "print(\"T Statistic value: \", t_stat)  \n",
    "print(\"P-Value: \", p_value, '\\n')\n",
    "\n",
    "if p_value < 0.05:\n",
    "    print(\"We reject Null Hypothesis\")\n",
    "else:\n",
    "    print(\"We fail to reject Null Hypothesis\")"
   ]
  },
  {
   "cell_type": "code",
   "execution_count": null,
   "id": "370871eb",
   "metadata": {},
   "outputs": [],
   "source": []
  }
 ],
 "metadata": {
  "kernelspec": {
   "display_name": "Python 3 (ipykernel)",
   "language": "python",
   "name": "python3"
  },
  "language_info": {
   "codemirror_mode": {
    "name": "ipython",
    "version": 3
   },
   "file_extension": ".py",
   "mimetype": "text/x-python",
   "name": "python",
   "nbconvert_exporter": "python",
   "pygments_lexer": "ipython3",
   "version": "3.9.12"
  }
 },
 "nbformat": 4,
 "nbformat_minor": 5
}
