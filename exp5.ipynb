{
 "cells": [
  {
   "cell_type": "code",
   "execution_count": 4,
   "id": "228ccb70",
   "metadata": {},
   "outputs": [
    {
     "name": "stdout",
     "output_type": "stream",
     "text": [
      "Enter String rajat sandeep sen\n",
      "Enter Word a\n",
      "Enter Replacement 1\n",
      "r1j1t s1ndeep sen\n"
     ]
    }
   ],
   "source": [
    "string = input(\"Enter String \")\n",
    "word = input(\"Enter Word \")\n",
    "replace = input(\"Enter Replacement \")\n",
    "\n",
    "result = string.replace(word, replace)\n",
    "\n",
    "print(result)\n",
    "\n"
   ]
  },
  {
   "cell_type": "code",
   "execution_count": 7,
   "id": "bf96409c",
   "metadata": {},
   "outputs": [
    {
     "name": "stdout",
     "output_type": "stream",
     "text": [
      "Enter Email usagdfiuh\n",
      "False\n"
     ]
    }
   ],
   "source": [
    "import re\n",
    "\n",
    "def check(string):\n",
    "    regex = \"[a-zA-Z0-9-_]+@[a-zA-Z0-9]+\\.[a-z]{1,3}$\"\n",
    "    if re.match(regex, string):\n",
    "        return True\n",
    "    \n",
    "    return False\n",
    "\n",
    "email = input(\"Enter Email \")\n",
    "print(check(email))"
   ]
  },
  {
   "cell_type": "code",
   "execution_count": 5,
   "id": "f978881a",
   "metadata": {},
   "outputs": [
    {
     "name": "stdout",
     "output_type": "stream",
     "text": [
      "Enter string 111111111111\n",
      "Enter Number 1\n",
      "Count is 12\n"
     ]
    }
   ],
   "source": [
    "string = input(\"Enter string \")\n",
    "\n",
    "x = input(\"Enter Number \")\n",
    "count = 0\n",
    "\n",
    "for i in string:\n",
    "    if x == i:\n",
    "        count = count + 1\n",
    "\n",
    "print(\"Count is\", count)"
   ]
  },
  {
   "cell_type": "code",
   "execution_count": null,
   "id": "99f03628",
   "metadata": {},
   "outputs": [],
   "source": []
  }
 ],
 "metadata": {
  "kernelspec": {
   "display_name": "Python 3 (ipykernel)",
   "language": "python",
   "name": "python3"
  },
  "language_info": {
   "codemirror_mode": {
    "name": "ipython",
    "version": 3
   },
   "file_extension": ".py",
   "mimetype": "text/x-python",
   "name": "python",
   "nbconvert_exporter": "python",
   "pygments_lexer": "ipython3",
   "version": "3.9.12"
  }
 },
 "nbformat": 4,
 "nbformat_minor": 5
}
