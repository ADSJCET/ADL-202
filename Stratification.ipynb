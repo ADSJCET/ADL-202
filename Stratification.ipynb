{
 "cells": [
  {
   "cell_type": "code",
   "execution_count": 6,
   "id": "27d74ab9",
   "metadata": {},
   "outputs": [
    {
     "name": "stdout",
     "output_type": "stream",
     "text": [
      "Male, Home Mortgage      0.45\n",
      "Male, Rent               0.20\n",
      "Female, Home Mortgage    0.20\n",
      "Female, Rent             0.15\n",
      "Name: Stratify, dtype: float64\n"
     ]
    }
   ],
   "source": [
    "import pandas as pd\n",
    "import numpy as np\n",
    "\n",
    "# Read the CSV file into a DataFrame\n",
    "df = pd.read_csv(\"train.csv\")\n",
    "\n",
    "# Filter the DataFrame based on home ownership\n",
    "df = df[df['Home Ownership'].isin(['Home Mortgage', 'Rent'])]\n",
    "\n",
    "# Add a random 'Gender' column with proportions of Male and Female\n",
    "df['Gender'] = np.random.choice(['Male', 'Female'], size=len(df), p=[0.6, 0.4])\n",
    "\n",
    "# Create the 'Stratify' column by combining 'Gender' and 'Home Ownership'\n",
    "df['Stratify'] = df['Gender'] + ', ' + df['Home Ownership']\n",
    "\n",
    "# Define the stratification values and proportions\n",
    "stratify_values = ['Male, Home Mortgage', 'Male, Rent', 'Female, Home Mortgage', 'Female, Rent']\n",
    "stratify_proportions = [0.45, 0.20, 0.20, 0.15]\n",
    "\n",
    "# Perform data stratification\n",
    "df_stratified = pd.DataFrame(columns=df_credit.columns)  # Empty DataFrame for stratified data\n",
    "\n",
    "for value, proportion in zip(stratify_values, stratify_proportions):\n",
    "    filtered_data = df[df['Stratify'] == value]\n",
    "    sample_len = int(len(df) * proportion)\n",
    "    sampled_data = filtered_data.sample(replace=True, n=sample_len, random_state=42)\n",
    "    df_stratified = pd.concat([df_stratified, sampled_data])\n",
    "\n",
    "# Print the proportions of stratified categories in the final DataFrame\n",
    "stratify_proportions = (df_stratified['Stratify'].value_counts() / len(df_stratified)).sort_values(ascending=False)\n",
    "print(stratify_proportions)\n"
   ]
  },
  {
   "cell_type": "code",
   "execution_count": null,
   "id": "fcbe4181",
   "metadata": {},
   "outputs": [],
   "source": []
  }
 ],
 "metadata": {
  "kernelspec": {
   "display_name": "Python 3 (ipykernel)",
   "language": "python",
   "name": "python3"
  },
  "language_info": {
   "codemirror_mode": {
    "name": "ipython",
    "version": 3
   },
   "file_extension": ".py",
   "mimetype": "text/x-python",
   "name": "python",
   "nbconvert_exporter": "python",
   "pygments_lexer": "ipython3",
   "version": "3.9.12"
  }
 },
 "nbformat": 4,
 "nbformat_minor": 5
}
