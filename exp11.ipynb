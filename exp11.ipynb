{
 "cells": [
  {
   "cell_type": "code",
   "execution_count": 32,
   "id": "1ced38d6",
   "metadata": {},
   "outputs": [
    {
     "name": "stdout",
     "output_type": "stream",
     "text": [
      "[1, 2, 3, 4, 5, 2, 2]\n"
     ]
    }
   ],
   "source": [
    "list = [1, 2, 3, 4, 5, 2, 2]\n",
    "print(list)"
   ]
  },
  {
   "cell_type": "code",
   "execution_count": 33,
   "id": "1c690812",
   "metadata": {},
   "outputs": [
    {
     "name": "stdout",
     "output_type": "stream",
     "text": [
      "1 2 3 4 5 2 2 "
     ]
    }
   ],
   "source": [
    "# iterating using for loop\n",
    "for i in range(len(list)):\n",
    "    print(list[i],end=' ')"
   ]
  },
  {
   "cell_type": "code",
   "execution_count": 34,
   "id": "3c634564",
   "metadata": {},
   "outputs": [
    {
     "name": "stdout",
     "output_type": "stream",
     "text": [
      "[1, 2, 3, 4, 5, 2, 2]\n"
     ]
    }
   ],
   "source": [
    "# Iterating using comprehension\n",
    "print([i for i in list])"
   ]
  },
  {
   "cell_type": "code",
   "execution_count": 35,
   "id": "4458e772",
   "metadata": {},
   "outputs": [
    {
     "name": "stdout",
     "output_type": "stream",
     "text": [
      "[2, 4, 5, 2, 2, 6]\n"
     ]
    }
   ],
   "source": [
    "# Append an element to a list\n",
    "list.append(6)\n",
    "\n",
    "# Remove an element from a list by index\n",
    "list.pop(0)\n",
    "\n",
    "# Remove an element from a list by value\n",
    "list.remove(3)\n",
    "\n",
    "print(list)"
   ]
  },
  {
   "cell_type": "code",
   "execution_count": 36,
   "id": "499b659b",
   "metadata": {},
   "outputs": [
    {
     "name": "stdout",
     "output_type": "stream",
     "text": [
      "Sorted list is : [2, 2, 2, 4, 5, 6]\n"
     ]
    }
   ],
   "source": [
    "# Sort a list\n",
    "list.sort()\n",
    "print(\"Sorted list is :\",list)"
   ]
  },
  {
   "cell_type": "code",
   "execution_count": 37,
   "id": "6aa350d1",
   "metadata": {},
   "outputs": [
    {
     "name": "stdout",
     "output_type": "stream",
     "text": [
      "Reversed list is : [6, 5, 4, 2, 2, 2]\n"
     ]
    }
   ],
   "source": [
    "list.reverse()\n",
    "print(\"Reversed list is :\",list)"
   ]
  },
  {
   "cell_type": "code",
   "execution_count": 38,
   "id": "196f1955",
   "metadata": {},
   "outputs": [
    {
     "name": "stdout",
     "output_type": "stream",
     "text": [
      "The number of occurance of 2 is : 3\n"
     ]
    }
   ],
   "source": [
    "# Count the number of occurrences of an element in a list\n",
    "count = list.count(2)\n",
    "print('The number of occurance of 2 is :',count)"
   ]
  },
  {
   "cell_type": "code",
   "execution_count": 39,
   "id": "3874fe9c",
   "metadata": {},
   "outputs": [
    {
     "name": "stdout",
     "output_type": "stream",
     "text": [
      "Index of element 4 is : 2\n"
     ]
    }
   ],
   "source": [
    "# Find the index of an element in a list\n",
    "index = list.index(4)\n",
    "print(\"Index of element 4 is :\",index)"
   ]
  },
  {
   "cell_type": "code",
   "execution_count": 40,
   "id": "76c686be",
   "metadata": {},
   "outputs": [
    {
     "name": "stdout",
     "output_type": "stream",
     "text": [
      "Minimum element is : 2\n"
     ]
    }
   ],
   "source": [
    "# Get the minimum element in a list\n",
    "min_element = min(list)\n",
    "print(\"Minimum element is :\",min_element)"
   ]
  },
  {
   "cell_type": "code",
   "execution_count": 41,
   "id": "42109d8f",
   "metadata": {},
   "outputs": [
    {
     "name": "stdout",
     "output_type": "stream",
     "text": [
      "Maximum element is : 6\n"
     ]
    }
   ],
   "source": [
    "# Get the maximum element in a list\n",
    "max_element = max(list)\n",
    "print(\"Maximum element is :\",max_element)"
   ]
  }
 ],
 "metadata": {
  "kernelspec": {
   "display_name": "Python 3 (ipykernel)",
   "language": "python",
   "name": "python3"
  },
  "language_info": {
   "codemirror_mode": {
    "name": "ipython",
    "version": 3
   },
   "file_extension": ".py",
   "mimetype": "text/x-python",
   "name": "python",
   "nbconvert_exporter": "python",
   "pygments_lexer": "ipython3",
   "version": "3.9.12"
  }
 },
 "nbformat": 4,
 "nbformat_minor": 5
}
