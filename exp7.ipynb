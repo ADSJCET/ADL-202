{
 "cells": [
  {
   "cell_type": "code",
   "execution_count": 19,
   "id": "8e2b8fc0",
   "metadata": {
    "scrolled": true
   },
   "outputs": [
    {
     "name": "stdout",
     "output_type": "stream",
     "text": [
      "No of Words 11\n",
      "Upper Count 10\n",
      "Lower Count 31\n",
      "Symbol Count 7\n"
     ]
    }
   ],
   "source": [
    "file = open(\"newFile.txt\", \"r+\")\n",
    "\n",
    "WordCount = SymbolCount = UpperCount = LowerCount = 0\n",
    "special = '''~!@#$%^&*()_+{}|:<>?-=[]\\;,./`'\"'''\n",
    "invalid = ['', '\\n', '\\t']\n",
    "\n",
    "for line in file:\n",
    "    listOfWords = line.split(\" \")\n",
    "    \n",
    "    for word in listOfWords:\n",
    "        \n",
    "        if word in invalid:\n",
    "            continue\n",
    "            \n",
    "        WordCount += 1\n",
    "        \n",
    "        for x in word:\n",
    "            if x.islower():\n",
    "                LowerCount += 1\n",
    "            elif x.isupper():\n",
    "                UpperCount += 1\n",
    "            elif x in special:\n",
    "                SymbolCount += 1\n",
    "        \n",
    "    \n",
    "print(\"No of Words\",WordCount)        \n",
    "print(\"Upper Count\",UpperCount)\n",
    "print(\"Lower Count\",LowerCount)\n",
    "print(\"Symbol Count\",SymbolCount)\n",
    "\n",
    "file.close()"
   ]
  },
  {
   "cell_type": "code",
   "execution_count": 9,
   "id": "aa920404",
   "metadata": {},
   "outputs": [
    {
     "name": "stdout",
     "output_type": "stream",
     "text": [
      "Enter Toss limit 5\n",
      "Coin tosses are:  [['Head'], ['Tail'], ['Tail'], ['Head'], ['Tail']]\n"
     ]
    }
   ],
   "source": [
    "import random\n",
    "n = int(input(\"Enter Toss limit \"))\n",
    "l = []\n",
    "\n",
    "for i in range(n):\n",
    "    op = random.choices(['Head', 'Tail'])\n",
    "    l.append(op)\n",
    "    \n",
    "print(\"Coin tosses are: \", l)"
   ]
  },
  {
   "cell_type": "code",
   "execution_count": null,
   "id": "3f26ab20",
   "metadata": {},
   "outputs": [],
   "source": []
  }
 ],
 "metadata": {
  "kernelspec": {
   "display_name": "Python 3 (ipykernel)",
   "language": "python",
   "name": "python3"
  },
  "language_info": {
   "codemirror_mode": {
    "name": "ipython",
    "version": 3
   },
   "file_extension": ".py",
   "mimetype": "text/x-python",
   "name": "python",
   "nbconvert_exporter": "python",
   "pygments_lexer": "ipython3",
   "version": "3.9.12"
  }
 },
 "nbformat": 4,
 "nbformat_minor": 5
}
