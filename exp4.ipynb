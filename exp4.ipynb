{
 "cells": [
  {
   "cell_type": "code",
   "execution_count": 2,
   "id": "83d84796",
   "metadata": {},
   "outputs": [
    {
     "name": "stdout",
     "output_type": "stream",
     "text": [
      "Enter Radius 5\n",
      "Enter Height 10\n",
      "Volume 785.3981633974483\n",
      "Surface Area 471.23889803846896\n"
     ]
    }
   ],
   "source": [
    "from math import pi\n",
    "\n",
    "r = int(input(\"Enter Radius \"))\n",
    "h = int(input(\"Enter Height \"))\n",
    "\n",
    "vol = pi * r * r * h\n",
    "sf = 2 * pi * r * (r + h)\n",
    "\n",
    "print(\"Volume\", vol)\n",
    "print(\"Surface Area\", sf)"
   ]
  },
  {
   "cell_type": "code",
   "execution_count": null,
   "id": "43cb513a",
   "metadata": {},
   "outputs": [],
   "source": []
  }
 ],
 "metadata": {
  "kernelspec": {
   "display_name": "Python 3 (ipykernel)",
   "language": "python",
   "name": "python3"
  },
  "language_info": {
   "codemirror_mode": {
    "name": "ipython",
    "version": 3
   },
   "file_extension": ".py",
   "mimetype": "text/x-python",
   "name": "python",
   "nbconvert_exporter": "python",
   "pygments_lexer": "ipython3",
   "version": "3.9.12"
  }
 },
 "nbformat": 4,
 "nbformat_minor": 5
}
