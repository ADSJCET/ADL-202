{
 "cells": [
  {
   "cell_type": "code",
   "execution_count": 38,
   "id": "41a5e81c",
   "metadata": {},
   "outputs": [
    {
     "name": "stdout",
     "output_type": "stream",
     "text": [
      "chi_square_test_statistic: 5.0127344877344875\n",
      "p_value: 0.542180861413329\n",
      "critical value: 12.591587243743977\n",
      "\n",
      "We fail to reject Null Hypothesis\n"
     ]
    }
   ],
   "source": [
    "import scipy.stats as stats\n",
    "import numpy as np\n",
    "\n",
    "observed_data = [8, 6, 10, 7, 8, 11, 9]\n",
    "expected_data = [9, 8, 11, 8, 10, 7, 6]\n",
    "\n",
    "chi_square_test_statistic, p_alue = stats.chisquare(observed_data, expected_data)\n",
    "\n",
    "print('chi_square_test_statistic: ' + str(chi_square_test_statistic))\n",
    "print('p_value: ' + str(p_value))\n",
    "\n",
    "criticalValue = stats.chi2.ppf(1-0.05, df=6)\n",
    "print('critical value:', criticalValue)\n",
    "\n",
    "if(chi_square_test_statistic> criticalValue):\n",
    "    print(\"\\nNull Hypothesis is Rejected\")\n",
    "else:\n",
    "    print(\"\\nWe fail to reject Null Hypothesis\")"
   ]
  },
  {
   "cell_type": "code",
   "execution_count": 30,
   "id": "a36c85ef",
   "metadata": {
    "scrolled": true
   },
   "outputs": [
    {
     "name": "stdout",
     "output_type": "stream",
     "text": [
      "  Person  Hand  Height\n",
      "0      A    17     150\n",
      "1      B    15     154\n",
      "2      C    19     169\n",
      "3      D    17     172\n",
      "4      E    21     175 \n",
      "\n",
      "Hand: Mean 17.8 \n",
      "STD diviation= 2.0396078054371136 \n",
      "\n",
      "Hand: Mean 164.0 \n",
      "STD diviation= 10.059821071967434\n"
     ]
    },
    {
     "data": {
      "image/png": "[encoded data removed]",
      "text/plain": [
       "<Figure size 432x288 with 1 Axes>"
      ]
     },
     "metadata": {
      "needs_background": "light"
     },
     "output_type": "display_data"
    }
   ],
   "source": [
    "from numpy import mean\n",
    "from numpy import std\n",
    "from matplotlib import pyplot as plt\n",
    "import pandas as pd\n",
    "\n",
    "data = pd.read_csv('correlation.csv')\n",
    "\n",
    "data1 = data['Hand']\n",
    "data2 = data['Height']\n",
    "print(data, '\\n')\n",
    "\n",
    "print('Hand: Mean', mean(data1), '\\nSTD diviation=', std(data1), '\\n')\n",
    "print('Hand: Mean', mean(data2), '\\nSTD diviation=', std(data2))\n",
    "\n",
    "plt.xlabel(\"Hand\")\n",
    "plt.ylabel(\"Height\")\n",
    "plt.title(\"Correlation b/w two datas\")\n",
    "plt.scatter(data1, data2)\n",
    "plt.show()"
   ]
  },
  {
   "cell_type": "code",
   "execution_count": null,
   "id": "0360c472",
   "metadata": {},
   "outputs": [],
   "source": []
  }
 ],
 "metadata": {
  "kernelspec": {
   "display_name": "Python 3 (ipykernel)",
   "language": "python",
   "name": "python3"
  },
  "language_info": {
   "codemirror_mode": {
    "name": "ipython",
    "version": 3
   },
   "file_extension": ".py",
   "mimetype": "text/x-python",
   "name": "python",
   "nbconvert_exporter": "python",
   "pygments_lexer": "ipython3",
   "version": "3.9.12"
  }
 },
 "nbformat": 4,
 "nbformat_minor": 5
}
