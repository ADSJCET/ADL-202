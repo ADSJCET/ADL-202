{
 "cells": [
  {
   "cell_type": "code",
   "execution_count": 7,
   "id": "90b113e7",
   "metadata": {},
   "outputs": [
    {
     "name": "stdout",
     "output_type": "stream",
     "text": [
      "Chi-square statistic: 3.2575820730542175\n",
      "P-value: nan\n",
      "We fail to reject the null hypothesis.\n"
     ]
    }
   ],
   "source": [
    "import numpy as np\n",
    "from scipy.stats import chisquare\n",
    "\n",
    "def chi_square_test(observed, expected):\n",
    "    chi_square = sum((o - e)**2 / e for o, e in zip(observed, expected))\n",
    "    degrees_of_freedom = len(observed)-1\n",
    "    p_value = chisquare(observed, expected, ddof=degrees_of_freedom)[1]\n",
    "    return chi_square, p_value\n",
    "if __name__ == \"__main__\":\n",
    "    observed = [50, 60, 40, 47, 53]\n",
    "    expected = [51.2, 51.6, 49.2, 47.6, 50.4]\n",
    "    observed = np.array(observed)\n",
    "    expected = np.array(expected)\n",
    "    chi_square, p_value = chi_square_test(observed, expected)\n",
    "    print(\"Chi-square statistic:\", chi_square)\n",
    "    print(\"P-value:\", p_value)\n",
    "    if p_value < 0.05:\n",
    "        print(\"We reject the null hypothesis.\")\n",
    "    else:\n",
    "        print(\"We fail to reject the null hypothesis.\")\n"
   ]
  },
  {
   "cell_type": "code",
   "execution_count": 10,
   "id": "7eb937c4",
   "metadata": {},
   "outputs": [
    {
     "name": "stdout",
     "output_type": "stream",
     "text": [
      "chi_square_test_statistic is : 5.0127344877344875\n",
      "p_value : 0.542180861413329\n",
      "critical value: 12.591587243743977\n",
      "We fail to reject null hypothesis\n"
     ]
    }
   ],
   "source": [
    "import scipy.stats as stats\n",
    "import numpy as np\n",
    "observed_data = [8, 6, 10, 7, 8, 11, 9]\n",
    "expected_data = [9, 8, 11, 8, 10, 7, 6]\n",
    "chi_square_test_statistic, p_value = stats.chisquare(\n",
    "    observed_data, expected_data)\n",
    "print('chi_square_test_statistic is : ' +\n",
    "      str(chi_square_test_statistic))\n",
    "print('p_value : ' + str(p_value))\n",
    "cv=stats.chi2.ppf(1-0.05, df=6)\n",
    "print('critical value:',cv)\n",
    "if(chi_square_test_statistic>cv):\n",
    "    print(\"null hypothesis is rejected\")\n",
    "else:\n",
    "    print(\"We fail to reject null hypothesis\")"
   ]
  },
  {
   "cell_type": "code",
   "execution_count": null,
   "id": "a79695b3",
   "metadata": {},
   "outputs": [],
   "source": []
  }
 ],
 "metadata": {
  "kernelspec": {
   "display_name": "Python 3 (ipykernel)",
   "language": "python",
   "name": "python3"
  },
  "language_info": {
   "codemirror_mode": {
    "name": "ipython",
    "version": 3
   },
   "file_extension": ".py",
   "mimetype": "text/x-python",
   "name": "python",
   "nbconvert_exporter": "python",
   "pygments_lexer": "ipython3",
   "version": "3.9.12"
  }
 },
 "nbformat": 4,
 "nbformat_minor": 5
}
