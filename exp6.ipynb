{
 "cells": [
  {
   "cell_type": "code",
   "execution_count": null,
   "id": "7522fd65",
   "metadata": {},
   "outputs": [],
   "source": [
    "row = int(input(\"Enter row \"))\n",
    "col = int(input(\"Enter col \"))\n",
    "\n",
    "matrix = []\n",
    "matrix2 = []\n",
    "\n",
    "for r in range(0,row):\n",
    "    w = []\n",
    "    for c in range(0,col):\n",
    "        string = \"[\" + str(r) + \"][\" + str(c) + \"] = \"\n",
    "        w.append(int(input(string)))\n",
    "    matrix.append(w)\n",
    "\n",
    "    \n",
    "for r in range(0,row):\n",
    "    w = []\n",
    "    for c in range(0,col):\n",
    "        string = \"[\" + str(r) + \"][\" + str(c) + \"] = \"\n",
    "        w.append(int(input(string)))\n",
    "    matrix2.append(w)\n",
    "\n",
    "sum = []\n",
    "for r in range(0,row):\n",
    "    w = []\n",
    "    for c in range(0,col):\n",
    "        w.append(matrix[r][c] + matrix2[r][c])\n",
    "    sum.append(w)\n",
    "\n",
    "for i in sum:\n",
    "    print(i)"
   ]
  },
  {
   "cell_type": "code",
   "execution_count": 25,
   "id": "fd723407",
   "metadata": {},
   "outputs": [
    {
     "name": "stdout",
     "output_type": "stream",
     "text": [
      "[2, 4, 6]\n",
      "[2, 4, 6]\n",
      "[2, 4, 6]\n"
     ]
    }
   ],
   "source": [
    "matrix = [[1,2,3],[1,2,3],[1,2,3]]\n",
    "matrix2 = [[1,2,3],[1,2,3],[1,2,3]]\n",
    "\n",
    "\n",
    "sum = []\n",
    "for r in range(3):\n",
    "    w = []\n",
    "    for c in range(3):\n",
    "        w.append(matrix[r][c] + matrix2[r][c])\n",
    "    sum.append(w)\n",
    "\n",
    "for i in sum:\n",
    "    print(i)"
   ]
  },
  {
   "cell_type": "code",
   "execution_count": 29,
   "id": "aaf28f3b",
   "metadata": {
    "scrolled": true
   },
   "outputs": [
    {
     "name": "stdout",
     "output_type": "stream",
     "text": [
      "{'t': 'qwertqwert', 'r': 'qwertqwert', 'y': 'qwertqwert'}\n",
      "dict_keys(['t', 'r', 'y'])\n",
      "dict_values(['qwertqwert', 'qwertqwert', 'qwertqwert'])\n"
     ]
    }
   ],
   "source": [
    "diss = {\"t\":\"qwert\",\"r\":\"qwert\",\"y\":\"qwert\"}\n",
    "\n",
    "for key, value in diss.items():\n",
    "    diss[key] = value + value\n",
    "    \n",
    "print(diss)\n",
    "print(diss.keys())\n",
    "print(diss.values())"
   ]
  },
  {
   "cell_type": "code",
   "execution_count": 38,
   "id": "ccba1056",
   "metadata": {},
   "outputs": [
    {
     "name": "stdout",
     "output_type": "stream",
     "text": [
      "Enter Tuple Size 3\n",
      "Enter value 1\n",
      "Enter value 2\n",
      "Enter value 8\n",
      "\n",
      "Orginal Tuple (1, 2, 8)\n",
      "Even only (2, 8)\n",
      "Odd only (1,)\n"
     ]
    }
   ],
   "source": [
    "x = int(input(\"Enter Tuple Size \"))\n",
    "tuple = ()\n",
    "for i in range(x):\n",
    "    t = int(input(\"Enter value \"))\n",
    "    tuple += (t,)\n",
    "\n",
    "even = ()\n",
    "odd = ()\n",
    "\n",
    "for i in tuple:\n",
    "    if (i % 2) == 0:\n",
    "       even += (i,) \n",
    "    else:\n",
    "        odd += (i,)\n",
    "\n",
    "print(\"\\nOrginal Tuple\", tuple)\n",
    "print(\"Even only\", even)\n",
    "print(\"Odd only\", odd)"
   ]
  },
  {
   "cell_type": "code",
   "execution_count": 48,
   "id": "230e8971",
   "metadata": {},
   "outputs": [
    {
     "ename": "TypeError",
     "evalue": "'float' object cannot be interpreted as an integer",
     "output_type": "error",
     "traceback": [
      "\u001b[0;31m---------------------------------------------------------------------------\u001b[0m",
      "\u001b[0;31mTypeError\u001b[0m                                 Traceback (most recent call last)",
      "Input \u001b[0;32mIn [48]\u001b[0m, in \u001b[0;36m<cell line: 11>\u001b[0;34m()\u001b[0m\n\u001b[1;32m     12\u001b[0m     x \u001b[38;5;241m=\u001b[39m i[\u001b[38;5;241m0\u001b[39m:\u001b[38;5;241m-\u001b[39m\u001b[38;5;241m1\u001b[39m]\n\u001b[1;32m     13\u001b[0m     x \u001b[38;5;241m=\u001b[39m \u001b[38;5;28mint\u001b[39m(x) \n\u001b[0;32m---> 14\u001b[0m     \u001b[38;5;28;01mif\u001b[39;00m \u001b[38;5;129;01mnot\u001b[39;00m(\u001b[43mprime\u001b[49m\u001b[43m(\u001b[49m\u001b[43mx\u001b[49m\u001b[43m)\u001b[49m):\n\u001b[1;32m     15\u001b[0m         \u001b[38;5;28mprint\u001b[39m(x)\n\u001b[1;32m     17\u001b[0m \u001b[38;5;28mprint\u001b[39m(\u001b[38;5;28mlist\u001b[39m)\n",
      "Input \u001b[0;32mIn [48]\u001b[0m, in \u001b[0;36mprime\u001b[0;34m(x)\u001b[0m\n\u001b[1;32m      3\u001b[0m \u001b[38;5;28;01mdef\u001b[39;00m \u001b[38;5;21mprime\u001b[39m(x):\n\u001b[0;32m----> 4\u001b[0m     \u001b[38;5;28;01mfor\u001b[39;00m i \u001b[38;5;129;01min\u001b[39;00m \u001b[38;5;28;43mrange\u001b[39;49m\u001b[43m(\u001b[49m\u001b[38;5;241;43m2\u001b[39;49m\u001b[43m,\u001b[49m\u001b[43m \u001b[49m\u001b[43mx\u001b[49m\u001b[38;5;241;43m/\u001b[39;49m\u001b[38;5;241;43m2\u001b[39;49m\u001b[43m)\u001b[49m:\n\u001b[1;32m      5\u001b[0m         \u001b[38;5;28;01mif\u001b[39;00m x \u001b[38;5;241m%\u001b[39m i \u001b[38;5;241m==\u001b[39m \u001b[38;5;241m0\u001b[39m:\n\u001b[1;32m      6\u001b[0m             \u001b[38;5;28;01mreturn\u001b[39;00m \u001b[38;5;28;01mTrue\u001b[39;00m\n",
      "\u001b[0;31mTypeError\u001b[0m: 'float' object cannot be interpreted as an integer"
     ]
    }
   ],
   "source": [
    "file = open(\"file.txt\", \"r+\")\n",
    "\n",
    "def prime(x):\n",
    "    for i in range(2, x/2):\n",
    "        if x % i == 0:\n",
    "            return True\n",
    "        \n",
    "    return False\n",
    "\n",
    "list = []\n",
    "for i in file:\n",
    "    x = i[0:-1]\n",
    "    x = int(x) \n",
    "    if not(prime(x)):\n",
    "        print(x)\n",
    "    \n",
    "print(list)"
   ]
  },
  {
   "cell_type": "code",
   "execution_count": null,
   "id": "bbea1ad9",
   "metadata": {},
   "outputs": [],
   "source": []
  }
 ],
 "metadata": {
  "kernelspec": {
   "display_name": "Python 3 (ipykernel)",
   "language": "python",
   "name": "python3"
  },
  "language_info": {
   "codemirror_mode": {
    "name": "ipython",
    "version": 3
   },
   "file_extension": ".py",
   "mimetype": "text/x-python",
   "name": "python",
   "nbconvert_exporter": "python",
   "pygments_lexer": "ipython3",
   "version": "3.9.12"
  }
 },
 "nbformat": 4,
 "nbformat_minor": 5
}
