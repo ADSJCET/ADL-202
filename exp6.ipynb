{
 "cells": [
  {
   "cell_type": "code",
   "execution_count": null,
   "id": "7522fd65",
   "metadata": {},
   "outputs": [],
   "source": [
    "row = int(input(\"Enter row \"))\n",
    "col = int(input(\"Enter col \"))\n",
    "\n",
    "matrix = []\n",
    "matrix2 = []\n",
    "\n",
    "for r in range(0,row):\n",
    "    w = []\n",
    "    for c in range(0,col):\n",
    "        string = \"[\" + str(r) + \"][\" + str(c) + \"] = \"\n",
    "        w.append(int(input(string)))\n",
    "    matrix.append(w)\n",
    "\n",
    "    \n",
    "for r in range(0,row):\n",
    "    w = []\n",
    "    for c in range(0,col):\n",
    "        string = \"[\" + str(r) + \"][\" + str(c) + \"] = \"\n",
    "        w.append(int(input(string)))\n",
    "    matrix2.append(w)\n",
    "\n",
    "sum = []\n",
    "for r in range(0,row):\n",
    "    w = []\n",
    "    for c in range(0,col):\n",
    "        w.append(matrix[r][c] + matrix2[r][c])\n",
    "    sum.append(w)\n",
    "\n",
    "for i in sum:\n",
    "    print(i)"
   ]
  },
  {
   "cell_type": "code",
   "execution_count": 25,
   "id": "01b52604",
   "metadata": {},
   "outputs": [
    {
     "name": "stdout",
     "output_type": "stream",
     "text": [
      "[2, 4, 6]\n",
      "[2, 4, 6]\n",
      "[2, 4, 6]\n"
     ]
    }
   ],
   "source": [
    "matrix = [[1,2,3],[1,2,3],[1,2,3]]\n",
    "matrix2 = [[1,2,3],[1,2,3],[1,2,3]]\n",
    "\n",
    "\n",
    "sum = []\n",
    "for r in range(3):\n",
    "    w = []\n",
    "    for c in range(3):\n",
    "        w.append(matrix[r][c] + matrix2[r][c])\n",
    "    sum.append(w)\n",
    "\n",
    "for i in sum:\n",
    "    print(i)"
   ]
  },
  {
   "cell_type": "code",
   "execution_count": 29,
   "id": "b1bb0bab",
   "metadata": {
    "scrolled": true
   },
   "outputs": [
    {
     "name": "stdout",
     "output_type": "stream",
     "text": [
      "{'t': 'qwertqwert', 'r': 'qwertqwert', 'y': 'qwertqwert'}\n",
      "dict_keys(['t', 'r', 'y'])\n",
      "dict_values(['qwertqwert', 'qwertqwert', 'qwertqwert'])\n"
     ]
    }
   ],
   "source": [
    "diss = {\"t\":\"qwert\",\"r\":\"qwert\",\"y\":\"qwert\"}\n",
    "\n",
    "for key, value in diss.items():\n",
    "    diss[key] = value + value\n",
    "    \n",
    "print(diss)\n",
    "print(diss.keys())\n",
    "print(diss.values())"
   ]
  },
  {
   "cell_type": "code",
   "execution_count": 38,
   "id": "f6db49ba",
   "metadata": {},
   "outputs": [
    {
     "name": "stdout",
     "output_type": "stream",
     "text": [
      "Enter Tuple Size 3\n",
      "Enter value 1\n",
      "Enter value 2\n",
      "Enter value 8\n",
      "\n",
      "Orginal Tuple (1, 2, 8)\n",
      "Even only (2, 8)\n",
      "Odd only (1,)\n"
     ]
    }
   ],
   "source": [
    "x = int(input(\"Enter Tuple Size \"))\n",
    "tuple = ()\n",
    "for i in range(x):\n",
    "    t = int(input(\"Enter value \"))\n",
    "    tuple += (t,)\n",
    "\n",
    "even = ()\n",
    "odd = ()\n",
    "\n",
    "for i in tuple:\n",
    "    if (i % 2) == 0:\n",
    "       even += (i,) \n",
    "    else:\n",
    "        odd += (i,)\n",
    "\n",
    "print(\"\\nOrginal Tuple\", tuple)\n",
    "print(\"Even only\", even)\n",
    "print(\"Odd only\", odd)"
   ]
  },
  {
   "cell_type": "code",
   "execution_count": 50,
   "id": "c0561598",
   "metadata": {},
   "outputs": [
    {
     "name": "stdout",
     "output_type": "stream",
     "text": [
      "1\n",
      "2\n",
      "3\n",
      "43\n",
      "5\n",
      "[]\n"
     ]
    }
   ],
   "source": [
    "file = open(\"file.txt\", \"r+\")\n",
    "\n",
    "def prime(x):\n",
    "    for i in range(2, int(x/2)):\n",
    "        if x % i == 0:\n",
    "            return True\n",
    "        \n",
    "    return False\n",
    "\n",
    "list = []\n",
    "for i in file:\n",
    "    x = i[0:-1]\n",
    "    x = int(x) \n",
    "    if not(prime(x)):\n",
    "        print(x)"
   ]
  },
  {
   "cell_type": "code",
   "execution_count": null,
   "id": "5816f3aa",
   "metadata": {},
   "outputs": [],
   "source": []
  }
 ],
 "metadata": {
  "kernelspec": {
   "display_name": "Python 3 (ipykernel)",
   "language": "python",
   "name": "python3"
  },
  "language_info": {
   "codemirror_mode": {
    "name": "ipython",
    "version": 3
   },
   "file_extension": ".py",
   "mimetype": "text/x-python",
   "name": "python",
   "nbconvert_exporter": "python",
   "pygments_lexer": "ipython3",
   "version": "3.9.12"
  }
 },
 "nbformat": 4,
 "nbformat_minor": 5
}
