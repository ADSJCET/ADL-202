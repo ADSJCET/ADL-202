{
 "cells": [
  {
   "cell_type": "code",
   "execution_count": 1,
   "id": "82fdc834",
   "metadata": {},
   "outputs": [
    {
     "name": "stdout",
     "output_type": "stream",
     "text": [
      "Measures of Central Tendency (Raw Data):\n",
      "Mean: 4\n",
      "Median: 4.0\n",
      "Mode: 5\n",
      "\n",
      "Measures of Dispersion (Raw Data):\n",
      "Variance: 1.1111111111111112\n",
      "Standard Deviation: 1.0540925533894598\n",
      "\n",
      "Measures of Central Tendency (Grouped Data):\n",
      "Weighted Mean: 25.5\n",
      "Mode: 25.0\n",
      "\n",
      "Measures of Dispersion (Grouped Data):\n",
      "Variance: 144.75\n",
      "Standard Deviation: 12.031209415515965\n"
     ]
    }
   ],
   "source": [
    "import statistics\n",
    "\n",
    "# Function to calculate measures of central tendency and dispersion for raw data\n",
    "def calculate_raw_data_statistics(data):\n",
    "    mean = statistics.mean(data)\n",
    "    median = statistics.median(data)\n",
    "    mode = statistics.mode(data)\n",
    "    variance = statistics.variance(data)\n",
    "    std_deviation = statistics.stdev(data)\n",
    "\n",
    "    return mean, median, mode, variance, std_deviation\n",
    "\n",
    "# Function to calculate measures of central tendency and dispersion for grouped data\n",
    "def calculate_grouped_data_statistics(groups, frequencies):\n",
    "    # Calculate midpoint of each group\n",
    "    midpoints = [(group[0] + group[1]) / 2 for group in groups]\n",
    "\n",
    "    # Calculate weighted mean using midpoints and frequencies\n",
    "    weighted_mean = sum(midpoint * frequency for midpoint, frequency in zip(midpoints, frequencies)) / sum(frequencies)\n",
    "\n",
    "    # Find the group with the highest frequency\n",
    "    max_frequency = max(frequencies)\n",
    "    mode_index = frequencies.index(max_frequency)\n",
    "    mode = midpoints[mode_index]\n",
    "\n",
    "    # Calculate variance using the grouped data formula\n",
    "    variance = sum((midpoint - weighted_mean) ** 2 * frequency for midpoint, frequency in zip(midpoints, frequencies)) / sum(frequencies)\n",
    "\n",
    "    # Calculate standard deviation as the square root of the variance\n",
    "    std_deviation = variance ** 0.5\n",
    "\n",
    "    return weighted_mean, mode, variance, std_deviation\n",
    "\n",
    "# Example usage with raw data\n",
    "raw_data = [2, 3, 3, 4, 4, 4, 5, 5, 5, 5]\n",
    "mean, median, mode, variance, std_deviation = calculate_raw_data_statistics(raw_data)\n",
    "\n",
    "print(\"Measures of Central Tendency (Raw Data):\")\n",
    "print(\"Mean:\", mean)\n",
    "print(\"Median:\", median)\n",
    "print(\"Mode:\", mode)\n",
    "\n",
    "print(\"\\nMeasures of Dispersion (Raw Data):\")\n",
    "print(\"Variance:\", variance)\n",
    "print(\"Standard Deviation:\", std_deviation)\n",
    "\n",
    "# Example usage with grouped data\n",
    "groups = [(0, 10), (10, 20), (20, 30), (30, 40), (40, 50)]\n",
    "frequencies = [5, 8, 12, 10, 5]\n",
    "weighted_mean, mode, variance, std_deviation = calculate_grouped_data_statistics(groups, frequencies)\n",
    "\n",
    "print(\"\\nMeasures of Central Tendency (Grouped Data):\")\n",
    "print(\"Weighted Mean:\", weighted_mean)\n",
    "print(\"Mode:\", mode)\n",
    "\n",
    "print(\"\\nMeasures of Dispersion (Grouped Data):\")\n",
    "print(\"Variance:\", variance)\n",
    "print(\"Standard Deviation:\", std_deviation)\n"
   ]
  },
  {
   "cell_type": "code",
   "execution_count": null,
   "id": "a773c6a4",
   "metadata": {},
   "outputs": [],
   "source": []
  }
 ],
 "metadata": {
  "kernelspec": {
   "display_name": "Python 3 (ipykernel)",
   "language": "python",
   "name": "python3"
  },
  "language_info": {
   "codemirror_mode": {
    "name": "ipython",
    "version": 3
   },
   "file_extension": ".py",
   "mimetype": "text/x-python",
   "name": "python",
   "nbconvert_exporter": "python",
   "pygments_lexer": "ipython3",
   "version": "3.9.12"
  }
 },
 "nbformat": 4,
 "nbformat_minor": 5
}
