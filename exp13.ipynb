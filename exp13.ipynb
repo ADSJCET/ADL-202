{
 "cells": [
  {
   "cell_type": "code",
   "execution_count": 17,
   "id": "e50eec9a",
   "metadata": {},
   "outputs": [
    {
     "name": "stdout",
     "output_type": "stream",
     "text": [
      "Enter a list of numbers : 1 4 5 8 10 4 2 6 5 8 \n",
      "\n",
      "Mean : 5.3\n",
      "Median :  7.0\n",
      "Mode :  [4, 5, 8]\n"
     ]
    }
   ],
   "source": [
    "#measures of central tendency\n",
    "\n",
    "numbers = input(\"Enter a list of numbers : \").split()\n",
    "numbers = [int(num) for num in numbers]\n",
    "mean = sum(numbers) / len(numbers)\n",
    "\n",
    "n = len(numbers)\n",
    "if n%2 == 0:\n",
    "    mid1 = numbers[n//2-1]\n",
    "    mid2 = numbers[n//2]\n",
    "    median = (mid1 + mid2)/2\n",
    "else:\n",
    "    median = numbers[n//2]\n",
    "    \n",
    "numbers = sorted(numbers) \n",
    "frequency = {}\n",
    "\n",
    "for num in numbers:\n",
    "    if num in frequency:\n",
    "        frequency[num] += 1\n",
    "    else:\n",
    "        frequency[num] = 1\n",
    "        \n",
    "mode = []\n",
    "max_freq = max(frequency.values())\n",
    "\n",
    "for num, freq in frequency.items():\n",
    "    if freq == max_freq:\n",
    "        mode.append(num)\n",
    "\n",
    "print(\"\\nMean :\", mean)\n",
    "print(\"Median : \", median)\n",
    "print(\"Mode : \", mode)\n"
   ]
  },
  {
   "cell_type": "code",
   "execution_count": null,
   "id": "855457f9",
   "metadata": {},
   "outputs": [],
   "source": []
  },
  {
   "cell_type": "code",
   "execution_count": null,
   "id": "d821c9eb",
   "metadata": {},
   "outputs": [],
   "source": []
  }
 ],
 "metadata": {
  "kernelspec": {
   "display_name": "Python 3 (ipykernel)",
   "language": "python",
   "name": "python3"
  },
  "language_info": {
   "codemirror_mode": {
    "name": "ipython",
    "version": 3
   },
   "file_extension": ".py",
   "mimetype": "text/x-python",
   "name": "python",
   "nbconvert_exporter": "python",
   "pygments_lexer": "ipython3",
   "version": "3.9.12"
  }
 },
 "nbformat": 4,
 "nbformat_minor": 5
}
